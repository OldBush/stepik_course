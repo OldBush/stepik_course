{
 "cells": [
  {
   "cell_type": "code",
   "execution_count": 14,
   "metadata": {},
   "outputs": [],
   "source": [
    "import re\n",
    "import pandas as pd"
   ]
  },
  {
   "cell_type": "markdown",
   "metadata": {},
   "source": [
    "<h3>3.1</h3>"
   ]
  },
  {
   "cell_type": "code",
   "execution_count": 1,
   "metadata": {},
   "outputs": [
    {
     "data": {
      "text/plain": [
       "7.25"
      ]
     },
     "execution_count": 1,
     "metadata": {},
     "output_type": "execute_result"
    }
   ],
   "source": [
    "\"\"\"Напишите функцию f(x), которая возвращает значение следующей функции, определённой на всей числовой прямой:\n",
    "   Требуется реализовать только функцию, решение не должно осуществлять операций ввода-вывода.\"\"\"\n",
    "\n",
    "def f(x):\n",
    "    if x <= -2:\n",
    "        return(1-((x+2)**2))\n",
    "    elif -2 < x <= 2:\n",
    "        return ((-x)/2)\n",
    "    elif x > 2:\n",
    "        return (((x-2)**2)+1)\n",
    "    \n",
    "f(4.5)"
   ]
  },
  {
   "cell_type": "code",
   "execution_count": 4,
   "metadata": {},
   "outputs": [],
   "source": [
    "\"\"\"Напишите функцию modify_list(l), которая принимает на вход список целых чисел, \n",
    "   удаляет из него все нечётные значения, а чётные нацело делит на два. \n",
    "   Функция не должна ничего возвращать, требуется только изменение переданного списка.\"\"\"\n",
    "\n",
    "\n",
    "def modify_list(l):\n",
    "    l[:] = [i // 2 for i in l if not i % 2]"
   ]
  },
  {
   "cell_type": "markdown",
   "metadata": {},
   "source": [
    "<h3>3.2</h3>"
   ]
  },
  {
   "cell_type": "code",
   "execution_count": 5,
   "metadata": {},
   "outputs": [],
   "source": [
    "\"\"\"Напишите функцию update_dictionary(d, key, value), которая принимает на вход словарь d и два числа: key и value.\n",
    "\n",
    "    Если ключ key есть в словаре d, то добавьте значение value в список, который хранится по этому ключу. \n",
    "    Если ключа key нет в словаре, то нужно добавить значение в список по ключу 2⋅key. \n",
    "    Если и ключа 2⋅key нет, то нужно добавить ключ 2⋅key в словарь и сопоставить ему список из переданного элемента [value].\n",
    "\n",
    "    Требуется реализовать только эту функцию, кода вне неё не должно быть.\n",
    "    Функция не должна вызывать внутри себя функции input и print.\"\"\"\n",
    "\n",
    "\n",
    "def update_dictionary(d, key, value):\n",
    "    if key in d.keys():\n",
    "        d[key].append(value)\n",
    "    elif 2*key in d.keys():\n",
    "        d[2*key].append(value)\n",
    "    else:\n",
    "        d[2*key] = [value]\n",
    "    return d"
   ]
  },
  {
   "cell_type": "code",
   "execution_count": 6,
   "metadata": {},
   "outputs": [
    {
     "name": "stdout",
     "output_type": "stream",
     "text": [
      "a aa abC aa ac abc bcd a\n",
      "a 2\n",
      "aa 2\n",
      "abc 2\n",
      "ac 1\n",
      "bcd 1\n"
     ]
    }
   ],
   "source": [
    "\"\"\"Когда Антон прочитал «Войну и мир», ему стало интересно, сколько слов и в каком количестве используется в этой книге.\n",
    "\n",
    "   Помогите Антону написать упрощённую версию такой программы, которая сможет подсчитать слова, разделённые пробелом и вывести получившуюся статистику.\n",
    "\n",
    "   Программа должна считывать одну строку со стандартного ввода и выводить для каждого уникального слова \n",
    "   в этой строке число его повторений (без учёта регистра) в формате \"слово количество\" (см. пример вывода). \n",
    "   Порядок вывода слов может быть произвольным, каждое уникальное слово должно выводиться только один раз.\"\"\"\n",
    "\n",
    "\n",
    "string = input().split(\" \")\n",
    "string = [word.lower() for word in string]\n",
    "d = {}\n",
    "\n",
    "for word in string:\n",
    "    if word not in d:\n",
    "        d[word] = string.count(word)\n",
    "\n",
    "for key, value in d.items():\n",
    "    print(key + \" \" + str(value))"
   ]
  },
  {
   "cell_type": "code",
   "execution_count": null,
   "metadata": {},
   "outputs": [],
   "source": [
    "\"\"\"Имеется реализованная функция f(x), принимающая на вход целое число x, \n",
    "   которая вычисляет некоторое целочисленое значение и возвращает его в качестве результата работы.\n",
    "\n",
    "   Функция вычисляется достаточно долго, ничего не выводит на экран, \n",
    "   не пишет в файлы и зависит только от переданного аргумента x.\n",
    "\n",
    "   Напишите программу, которой на вход в первой строке подаётся число n — количество значений x, \n",
    "   для которых требуется узнать значение функции f(x), после чего сами эти n значений, каждое на отдельной строке. \n",
    "   Программа должна после каждого введённого значения аргумента вывести соответствующие значения функции f \n",
    "   на отдельной строке.\n",
    "\n",
    "   Для ускорения вычисления необходимо сохранять уже вычисленные значения функции при известных аргументах.\n",
    "\n",
    "   Обратите внимание, что в этой задаче установлено достаточно сильное ограничение в две секунды \n",
    "   по времени исполнения кода на тесте.\"\"\"\n",
    "\n",
    "\n",
    "res = {}\n",
    "for i in range(int(input())):\n",
    "    x = int(input())\n",
    "    if x not in res.keys():\n",
    "        res[x] = f(x)\n",
    "    print(res[x])"
   ]
  },
  {
   "cell_type": "markdown",
   "metadata": {},
   "source": [
    "<h3>3.4</h3>"
   ]
  },
  {
   "cell_type": "code",
   "execution_count": null,
   "metadata": {},
   "outputs": [],
   "source": [
    "\"\"\"На прошлой неделе мы сжимали строки, используя кодирование повторов. \n",
    "   Теперь нашей задачей будет восстановление исходной строки обратно.\n",
    "\n",
    "   Напишите программу, которая считывает из файла строку, соответствующую тексту, сжатому с помощью кодирования повторов, \n",
    "   и производит обратную операцию, получая исходный текст.\n",
    "\n",
    "   Запишите полученный текст в файл и прикрепите его, как ответ на это задание.\n",
    "\n",
    "   В исходном тексте не встречаются цифры, так что код однозначно интерпретируем.\n",
    "\n",
    "   Примечание. Это первое задание типа Dataset Quiz. В таких заданиях после нажатия \"Start Quiz\" \n",
    "   у вас появляется ссылка \"download your dataset\". Используйте эту ссылку для того, \n",
    "   чтобы загрузить файл со входными данными к себе на компьютер. Запустите вашу программу, \n",
    "   используя этот файл в качестве входных данных. Выходной файл, который при этом у вас получится, \n",
    "   надо отправить в качестве ответа на эту задачу. \"\"\"\n",
    "\n",
    "def decode(s):\n",
    "    d = re.findall(r\"\\d+\", s)\n",
    "    d = [int(i) for i in d]\n",
    "    s = [i for i in list(s) if not i.isdigit()]\n",
    "\n",
    "    final_string = \"\"\n",
    "    for letter,count in zip(s,d):\n",
    "        elem = [letter] * count\n",
    "        for e in elem:\n",
    "            final_string += e\n",
    "    return final_string\n",
    "\n",
    "with open(r\"file_path.txt\", \"r\") as f:\n",
    "    string = f.readline().strip()\n",
    "    \n",
    "string = decode(string)\n",
    "\n",
    "with open('output_1.txt', 'w') as f:\n",
    "    f.write(string)"
   ]
  },
  {
   "cell_type": "code",
   "execution_count": null,
   "metadata": {},
   "outputs": [],
   "source": [
    "\"\"\"Недавно мы считали для каждого слова количество его вхождений в строку. \n",
    "   Но на все слова может быть не так интересно смотреть, как, например, на наиболее часто используемые.\n",
    "\n",
    "   Напишите программу, которая считывает текст из файла (в файле может быть больше одной строки) \n",
    "   и выводит самое частое слово в этом тексте и через пробел то, сколько раз оно встретилось. \n",
    "   Если таких слов несколько, вывести лексикографически первое (можно использовать оператор < для строк).\n",
    "\n",
    "   В качестве ответа укажите вывод программы, а не саму программу.\n",
    "\n",
    "   Слова, написанные в разных регистрах, считаются одинаковыми.\"\"\"\n",
    "\n",
    "\n",
    "line_lst = []\n",
    "with open(r\"file_path.txt\", \"r\") as f:\n",
    "    for line in f:\n",
    "        line = line.strip()\n",
    "        line_lst.append(line)\n",
    "        \n",
    "d = {}\n",
    "\n",
    "for line in line_lst:\n",
    "    line = line.lower().split()\n",
    "    for word in line:\n",
    "        if word not in d:\n",
    "            d[word] = line.count(word)\n",
    "    line_key = word\n",
    "line_val = d[line_key]\n",
    "\n",
    "for key, value in d.items():\n",
    "    if value > line_val:\n",
    "        line_key = key\n",
    "        line_val = value\n",
    "    if value == line_val:\n",
    "        line_key = key\n",
    "        line_val = value\n",
    "result_string = line_key + \" \" + str(line_val)\n",
    "\n",
    "with open('output_2_2_1.txt', 'w') as f:\n",
    "    f.write(result_string)"
   ]
  },
  {
   "cell_type": "code",
   "execution_count": null,
   "metadata": {},
   "outputs": [],
   "source": [
    "\"\"\"Имеется файл с данными по успеваемости абитуриентов. Он представляет из себя набор строк, \n",
    "   где в каждой строке записана следующая информация:\n",
    "\n",
    "   Фамилия;Оценка_по_математике;Оценка_по_физике;Оценка_по_русскому_языку\n",
    "\n",
    "   Поля внутри строки разделены точкой с запятой, оценки — целые числа.\n",
    "\n",
    "   Напишите программу, которая считывает файл с подобной структурой и для каждого абитуриента выводит \n",
    "   его среднюю оценку по этим трём предметам на отдельной строке, соответствующей этому абитуриенту.\n",
    "\n",
    "   Также в конце файла, на отдельной строке, через пробел запишите средние баллы по математике, физике \n",
    "   и русскому языку по всем абитуриентам\"\"\"\n",
    "\n",
    "df = pd.read_csv(r\"file_path.txt\", sep=\";\", header=None, engine=\"python\")\n",
    "\n",
    "df = df.rename(columns={0: \"student\", 1: \"math\", \n",
    "                        2: \"physics\", 3: \"russ\"})\n",
    "\n",
    "df[\"math\"] = df[\"math\"].astype(\"int\")\n",
    "df[\"physics\"] = df[\"physics\"].astype(\"int\")\n",
    "df[\"russ\"] = df[\"russ\"].astype(\"int\")\n",
    "\n",
    "df[\"mean_point\"] = (df[\"math\"] + df[\"physics\"] + df[\"russ\"])/3\n",
    "\n",
    "res = \"\"\n",
    "\n",
    "for point in df[\"mean_point\"].tolist():\n",
    "    res += str(point)\n",
    "    res += \"\\n\"\n",
    "    \n",
    "res += str(df[\"math\"].mean()) + \" \" + str(df[\"physics\"].mean()) + \" \" + str(df[\"russ\"].mean())\n",
    "\n",
    "with open('output_3.txt', 'w') as f:\n",
    "    f.write(res)"
   ]
  },
  {
   "cell_type": "markdown",
   "metadata": {},
   "source": [
    "<h3>3.5</h3>"
   ]
  },
  {
   "cell_type": "code",
   "execution_count": 97,
   "metadata": {},
   "outputs": [
    {
     "name": "stdout",
     "output_type": "stream",
     "text": [
      "10\n",
      "62.83185307179586\n"
     ]
    }
   ],
   "source": [
    "\"\"\"Напишите программу, которая подключает модуль math и, используя значение числа π из этого модуля, \n",
    "   находит для переданного ей на стандартный ввод радиуса круга периметр \n",
    "   этого круга и выводит его на стандартный вывод.\"\"\"\n",
    "\n",
    "from math import pi\n",
    "\n",
    "r = float(input())\n",
    "p = 2*pi*r\n",
    "\n",
    "print(str(p))"
   ]
  },
  {
   "cell_type": "code",
   "execution_count": null,
   "metadata": {},
   "outputs": [],
   "source": [
    "\"\"\"Напишите программу, которая запускается из консоли и печатает значения всех переданных \n",
    "   аргументов на экран (имя скрипта выводить не нужно). Не изменяйте порядок аргументов при выводе.\n",
    "\n",
    "   Для доступа к аргументам командной строки программы подключите модуль sys \n",
    "   и используйте переменную argv из этого модуля.\"\"\"\n",
    "\n",
    "import sys\n",
    "\n",
    "for i in range(1, len(sys.argv)):\n",
    "    print(sys.argv[i], end=' ')"
   ]
  },
  {
   "cell_type": "markdown",
   "metadata": {},
   "source": [
    "<h3>3.6</h3>"
   ]
  },
  {
   "cell_type": "code",
   "execution_count": 110,
   "metadata": {},
   "outputs": [],
   "source": [
    "\"\"\"Скачайте файл. В нём указан адрес другого файла, который нужно скачать с использованием модуля requests \n",
    "   и посчитать число строк в нём.\n",
    "\n",
    "   Используйте функцию get для получения файла (имеет смысл вызвать метод strip к передаваемому параметру, \n",
    "   чтобы убрать пробельные символы по краям).\n",
    "\n",
    "   После получения файла вы можете проверить результат, обратившись к полю text. \n",
    "   Если результат работы скрипта не принимается, проверьте поле url на правильность. \n",
    "   Для подсчёта количества строк разбейте текст с помощью метода splitlines.\n",
    "\n",
    "   В поле ответа введите одно число или отправьте файл, содержащий одно число.\"\"\"\n",
    "\n",
    "import requests\n",
    "\n",
    "with open(r\"file_path.txt\") as f:\n",
    "    url = f.readline().strip()\n",
    "\n",
    "\n",
    "r = requests.get(url)\n",
    "res = r.text.splitlines()\n",
    "\n",
    "with open('output_6_1.txt', 'w') as f:\n",
    "    f.write(str(len(res)))"
   ]
  },
  {
   "cell_type": "code",
   "execution_count": 113,
   "metadata": {},
   "outputs": [],
   "source": [
    "\"\"\"Имеется набор файлов, каждый из которых, кроме последнего, содержит имя следующего файла.\n",
    "   Первое слово в тексте последнего файла: \"We\".\n",
    "\n",
    "   Скачайте предложенный файл. В нём содержится ссылка на первый файл из этого набора.\n",
    "\n",
    "   Все файлы располагаются в каталоге по адресу:\n",
    "   https://stepic.org/media/attachments/course67/3.6.3/\n",
    "\n",
    "   Загрузите содержимое ﻿последнего файла из набора, как ответ на это задание.\"\"\"\n",
    "\n",
    "\n",
    "with open(r\"C:\\Users\\vni\\Downloads\\dataset_3378_3.txt\", \"r\") as f:\n",
    "    url = f.readline().strip()\n",
    "    \n",
    "folder = \"https://stepic.org/media/attachments/course67/3.6.3/\"\n",
    "text = \"\"\n",
    "\n",
    "while text[:2] != \"We\":\n",
    "    r = requests.get(url)\n",
    "    text = r.text\n",
    "    url = folder + text\n",
    "    \n",
    "with open('output_7.txt', 'w') as f:\n",
    "    f.write(text)"
   ]
  },
  {
   "cell_type": "markdown",
   "metadata": {},
   "source": [
    "<h3>3.7</h3>"
   ]
  },
  {
   "cell_type": "code",
   "execution_count": 116,
   "metadata": {},
   "outputs": [
    {
     "name": "stdout",
     "output_type": "stream",
     "text": [
      "3\n",
      "Зенит;3;Спартак;1\n",
      "Спартак;1;ЦСКА;1\n",
      "ЦСКА;0;Зенит;2\n",
      "Зенит:2 2 0 0 6 \n",
      "Спартак:2 0 1 1 1 \n",
      "ЦСКА:2 0 1 1 1 \n"
     ]
    }
   ],
   "source": [
    "\"\"\"Напишите программу, которая принимает на стандартный вход список игр футбольных \n",
    "   команд с результатом матча и выводит на стандартный вывод сводную таблицу результатов всех матчей.\n",
    "\n",
    "   За победу команде начисляется 3 очка, за поражение — 0, за ничью — 1.\n",
    "\n",
    "   Формат ввода следующий:\n",
    "   В первой строке указано целое число n — количество завершенных игр.\n",
    "   После этого идет n строк, в которых записаны результаты игры в следующем формате:\n",
    "   Первая_команда;Забито_первой_командой;Вторая_команда;Забито_второй_командой\n",
    "\n",
    "   Вывод программы необходимо оформить следующим образом:\n",
    "   Команда:Всего_игр Побед Ничьих Поражений Всего_очков\n",
    "\n",
    "   Конкретный пример ввода-вывода приведён ниже.\n",
    "\n",
    "   Порядок вывода команд произвольный.\"\"\"\n",
    "\n",
    "\n",
    "n = int(input())\n",
    "teams = dict()\n",
    "\n",
    "#0 всего игр - 1 побед - 2 ничьих - 3 поражений - 4 всего очков\n",
    "for i in range(n):\n",
    "    team1, score1, team2, score2 = input().split(';')\n",
    "\n",
    "    if team1 not in teams.keys():\n",
    "        teams[team1] = [0, 0, 0, 0, 0]\n",
    "    if team2 not in teams.keys():\n",
    "        teams[team2] = [0, 0, 0, 0, 0]\n",
    "\n",
    "    teams[team1][0] += 1\n",
    "    teams[team2][0] += 1\n",
    "\n",
    "    if score1 > score2:\n",
    "        teams[team1][1] += 1\n",
    "        teams[team1][4] += 3\n",
    "        teams[team2][3] += 1\n",
    "    elif score1 < score2:\n",
    "        teams[team2][1] += 1\n",
    "        teams[team2][4] += 3\n",
    "        teams[team1][3] += 1\n",
    "    elif score1 == score2:\n",
    "        teams[team1][2] += 1\n",
    "        teams[team1][4] += 1\n",
    "        teams[team2][2] += 1\n",
    "        teams[team2][4] += 1\n",
    "\n",
    "for key, value in teams.items():\n",
    "    print(key, end=':')\n",
    "\n",
    "    for v in value:\n",
    "        print(v, end=' ')\n",
    "\n",
    "    print()"
   ]
  },
  {
   "cell_type": "code",
   "execution_count": 3,
   "metadata": {},
   "outputs": [
    {
     "name": "stdout",
     "output_type": "stream",
     "text": [
      "3\n",
      "a\n",
      "bb\n",
      "cCc\n",
      "2\n",
      "a bb aab aba ccc\n",
      "c bb aaa\n",
      "aab\n",
      "aba\n",
      "c\n",
      "aaa\n"
     ]
    }
   ],
   "source": [
    "\"\"\"Простейшая система проверки орфографии основана на использовании списка известных слов. \n",
    "   Каждое слово в проверяемом тексте ищется в этом списке и, если такое слово не найдено, оно помечается, как ошибочное.\n",
    "\n",
    "   Напишем подобную систему.\n",
    "\n",
    "   Через стандартный ввод подаётся следующая структура: первой строкой — количество d записей в списке известных слов, \n",
    "   после передаётся  d строк с одним словарным словом на строку, затем — количество l строк текста, \n",
    "   после чего — l строк текста.\n",
    "\n",
    "   Напишите программу, которая выводит слова из текста, которые не встречаются в словаре. \n",
    "   Регистр слов не учитывается. Порядок вывода слов произвольный. Слова, не встречающиеся в словаре, \n",
    "   не должны повторяться в выводе программы.\"\"\"\n",
    "\n",
    "d = int(input())\n",
    "set_1 = set()\n",
    "\n",
    "for i in range(d):\n",
    "    set_1.add(input().lower())\n",
    "\n",
    "l = int(input())\n",
    "set_2 = set()\n",
    "\n",
    "for j in range(l):\n",
    "    set_2.add(input().lower())\n",
    "\n",
    "words = list()\n",
    "\n",
    "for line in set_2:\n",
    "    words.extend(line.split())\n",
    "\n",
    "output = set()\n",
    "\n",
    "for w in words:\n",
    "    if w not in set_1:\n",
    "        output.add(w)\n",
    "\n",
    "for w in output:\n",
    "    print(w)"
   ]
  },
  {
   "cell_type": "code",
   "execution_count": 11,
   "metadata": {},
   "outputs": [
    {
     "name": "stdout",
     "output_type": "stream",
     "text": [
      "4\n",
      "север 10\n",
      "юг 15\n",
      "запад 20\n",
      "восток 46\n",
      "26 -5\n"
     ]
    }
   ],
   "source": [
    "\"\"\"Группа биологов в институте биоинформатики завела себе черепашку.\n",
    "\n",
    "   После дрессировки черепашка научилась понимать и запоминать указания биологов следующего вида:\n",
    "   север 10\n",
    "   запад 20\n",
    "   юг 30\n",
    "   восток 40\n",
    "   где первое слово — это направление, в котором должна двигаться черепашка, \n",
    "   а число после слова — это положительное расстояние в сантиметрах, которое должна пройти черепашка.\n",
    "\n",
    "   Но команды даются быстро, а черепашка ползёт медленно, и программисты догадались, \n",
    "   что можно написать программу, которая определит, куда в итоге биологи приведут черепашку. \n",
    "   Для этого программисты просят вас написать программу, которая выведет точку, \n",
    "   в которой окажется черепашка после всех команд. Для простоты они решили считать, \n",
    "   что движение начинается в точке (0, 0), и движение на восток увеличивает первую координату, а на север — вторую.\n",
    "\n",
    "   Программе подаётся на вход число команд n, которые нужно выполнить черепашке, \n",
    "   после чего n строк с самими командами. Вывести нужно два числа в одну строку: \n",
    "   первую и вторую координату конечной точки черепашки. Все координаты целочисленные.\"\"\"\n",
    "\n",
    "count_comand = int(input())\n",
    "comands = []\n",
    "\n",
    "for i in range(count_comand):\n",
    "    value = input()\n",
    "    comands.append(value)\n",
    "    \n",
    "x, y = 0, 0\n",
    "for i in comands:\n",
    "    i = i.split()\n",
    "    if i[0] == \"север\":\n",
    "        y += int(i[1])\n",
    "    elif i[0] == \"юг\":\n",
    "        y -= int(i[1])\n",
    "    elif i[0] == \"восток\":\n",
    "        x += int(i[1])\n",
    "    elif i[0] == \"запад\":\n",
    "        x -= int(i[1])\n",
    "        \n",
    "print(str(x), str(y))"
   ]
  },
  {
   "cell_type": "code",
   "execution_count": 29,
   "metadata": {},
   "outputs": [],
   "source": [
    "df = pd.read_csv(r\"C:\\Users\\vni\\Downloads\\dataset_3380_5 (1).txt\", sep=\"\\t\", header=None, engine=\"python\")"
   ]
  },
  {
   "cell_type": "code",
   "execution_count": 30,
   "metadata": {},
   "outputs": [],
   "source": [
    "df = df.rename(columns={\n",
    "    0: \"class\",\n",
    "    1: \"surname\",\n",
    "    2: \"height\"\n",
    "})"
   ]
  },
  {
   "cell_type": "code",
   "execution_count": 31,
   "metadata": {},
   "outputs": [
    {
     "data": {
      "text/html": [
       "<div>\n",
       "<style scoped>\n",
       "    .dataframe tbody tr th:only-of-type {\n",
       "        vertical-align: middle;\n",
       "    }\n",
       "\n",
       "    .dataframe tbody tr th {\n",
       "        vertical-align: top;\n",
       "    }\n",
       "\n",
       "    .dataframe thead th {\n",
       "        text-align: right;\n",
       "    }\n",
       "</style>\n",
       "<table border=\"1\" class=\"dataframe\">\n",
       "  <thead>\n",
       "    <tr style=\"text-align: right;\">\n",
       "      <th></th>\n",
       "      <th>class</th>\n",
       "      <th>surname</th>\n",
       "      <th>height</th>\n",
       "    </tr>\n",
       "  </thead>\n",
       "  <tbody>\n",
       "    <tr>\n",
       "      <th>0</th>\n",
       "      <td>7</td>\n",
       "      <td>Lawman</td>\n",
       "      <td>163</td>\n",
       "    </tr>\n",
       "    <tr>\n",
       "      <th>1</th>\n",
       "      <td>1</td>\n",
       "      <td>Lawman</td>\n",
       "      <td>126</td>\n",
       "    </tr>\n",
       "    <tr>\n",
       "      <th>2</th>\n",
       "      <td>1</td>\n",
       "      <td>Attwood</td>\n",
       "      <td>126</td>\n",
       "    </tr>\n",
       "    <tr>\n",
       "      <th>3</th>\n",
       "      <td>10</td>\n",
       "      <td>Longman</td>\n",
       "      <td>167</td>\n",
       "    </tr>\n",
       "    <tr>\n",
       "      <th>4</th>\n",
       "      <td>4</td>\n",
       "      <td>Stanley</td>\n",
       "      <td>135</td>\n",
       "    </tr>\n",
       "  </tbody>\n",
       "</table>\n",
       "</div>"
      ],
      "text/plain": [
       "   class  surname  height\n",
       "0      7   Lawman     163\n",
       "1      1   Lawman     126\n",
       "2      1  Attwood     126\n",
       "3     10  Longman     167\n",
       "4      4  Stanley     135"
      ]
     },
     "execution_count": 31,
     "metadata": {},
     "output_type": "execute_result"
    }
   ],
   "source": [
    "df.head()"
   ]
  },
  {
   "cell_type": "code",
   "execution_count": 32,
   "metadata": {},
   "outputs": [],
   "source": [
    "group = df.groupby([\"class\"])[\"height\"].mean().reset_index().sort_values(by=\"class\")\n",
    "group.to_csv(r\"file_path.txt\", header=None, index=None, sep=' ', mode='a')"
   ]
  }
 ],
 "metadata": {
  "kernelspec": {
   "display_name": "Python 3",
   "language": "python",
   "name": "python3"
  },
  "language_info": {
   "codemirror_mode": {
    "name": "ipython",
    "version": 3
   },
   "file_extension": ".py",
   "mimetype": "text/x-python",
   "name": "python",
   "nbconvert_exporter": "python",
   "pygments_lexer": "ipython3",
   "version": "3.6.5"
  }
 },
 "nbformat": 4,
 "nbformat_minor": 2
}
